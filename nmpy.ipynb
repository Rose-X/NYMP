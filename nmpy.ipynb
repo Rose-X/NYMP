{
  "nbformat": 4,
  "nbformat_minor": 0,
  "metadata": {
    "colab": {
      "provenance": [],
      "authorship_tag": "ABX9TyOOmsHXg6dZ6fZg9Tjl9Rem",
      "include_colab_link": true
    },
    "kernelspec": {
      "name": "python3",
      "display_name": "Python 3"
    },
    "language_info": {
      "name": "python"
    }
  },
  "cells": [
    {
      "cell_type": "markdown",
      "metadata": {
        "id": "view-in-github",
        "colab_type": "text"
      },
      "source": [
        "<a href=\"https://colab.research.google.com/github/Rose-X/NYMP/blob/main/nmpy.ipynb\" target=\"_parent\"><img src=\"https://colab.research.google.com/assets/colab-badge.svg\" alt=\"Open In Colab\"/></a>"
      ]
    },
    {
      "cell_type": "markdown",
      "source": [
        "# **Exercise 1: Creating and Manipulating NumPy Arrays**"
      ],
      "metadata": {
        "id": "nMYZpMfeXISs"
      }
    },
    {
      "cell_type": "markdown",
      "source": [
        "**Create a 1D NumPy array from the list [5, 10, 15, 20, 25]. Convert the array to type float64 and print it.**\n",
        "\n"
      ],
      "metadata": {
        "id": "HkiOGZWOXGdF"
      }
    },
    {
      "cell_type": "code",
      "source": [
        "import numpy as np\n",
        "\n",
        "tb = np.array([5, 10, 15, 20, 25])\n",
        "\n",
        "tb_float64 = tb.astype(np.float64)\n",
        "\n",
        "print(tb_float64)\n"
      ],
      "metadata": {
        "colab": {
          "base_uri": "https://localhost:8080/"
        },
        "id": "nTpiKy4JXi0B",
        "outputId": "f1acb399-bfbb-4195-ef14-f516ac2fe08b"
      },
      "execution_count": null,
      "outputs": [
        {
          "output_type": "stream",
          "name": "stdout",
          "text": [
            "[ 5. 10. 15. 20. 25.]\n"
          ]
        }
      ]
    },
    {
      "cell_type": "markdown",
      "source": [
        "**Create a 2D NumPy array from the nested list [[1, 2, 3], [4, 5, 6], [7, 8, 9]]. Print the shape and size of the array.**\n",
        "\n"
      ],
      "metadata": {
        "id": "IF6tywCmYTeZ"
      }
    },
    {
      "cell_type": "code",
      "source": [
        "import numpy as np\n",
        "\n",
        "tab_2d = np.array([[1, 2, 3], [4, 5, 6], [7, 8, 9]])\n",
        "\n",
        "print(\"Tableau 2D :\")\n",
        "print(tab_2d)\n",
        "\n",
        "print(\"Forme TB:\", tab_2d.shape)\n",
        "\n",
        "print(\"Taille du tb :\", tab_2d.size)\n"
      ],
      "metadata": {
        "colab": {
          "base_uri": "https://localhost:8080/"
        },
        "id": "gEGLauZsYx5V",
        "outputId": "c9011b00-3692-4b3f-bda6-fecdfc0ac3ba"
      },
      "execution_count": null,
      "outputs": [
        {
          "output_type": "stream",
          "name": "stdout",
          "text": [
            "Tableau 2D :\n",
            "[[1 2 3]\n",
            " [4 5 6]\n",
            " [7 8 9]]\n",
            "Forme TB: (3, 3)\n",
            "Taille du tb : 9\n"
          ]
        }
      ]
    },
    {
      "cell_type": "markdown",
      "source": [
        "**Create a 3D NumPy array with random values of shape (2, 3, 4). Print the number of dimensions and the shape of the array.**\n",
        "\n"
      ],
      "metadata": {
        "id": "D3OUcU29ZZZ8"
      }
    },
    {
      "cell_type": "code",
      "source": [
        "import numpy as np\n",
        "tab_3d = np.random.rand(2, 3, 4)\n",
        "print(tab_3d)\n",
        "print(\"Nombre de D:\", tab_3d.ndim)\n",
        "print(\"Forme du tb :\", tab_3d.shape)\n"
      ],
      "metadata": {
        "colab": {
          "base_uri": "https://localhost:8080/"
        },
        "id": "abjxUJdkZj6L",
        "outputId": "76c05f6a-83e9-4b5e-fc82-36742937d841"
      },
      "execution_count": null,
      "outputs": [
        {
          "output_type": "stream",
          "name": "stdout",
          "text": [
            "[[[0.92388347 0.79900666 0.58059833 0.32152802]\n",
            "  [0.4111159  0.69211711 0.38743121 0.9218884 ]\n",
            "  [0.63031576 0.58606274 0.56888434 0.98343514]]\n",
            "\n",
            " [[0.57638775 0.04346174 0.92552463 0.5494552 ]\n",
            "  [0.91757722 0.71718873 0.94378177 0.44608884]\n",
            "  [0.41446379 0.71347972 0.23659099 0.78397391]]]\n",
            "Nombre de D: 3\n",
            "Forme du tb : (2, 3, 4)\n"
          ]
        }
      ]
    },
    {
      "cell_type": "markdown",
      "source": [
        "# Exercise 2: Advanced Array Manipulations\n"
      ],
      "metadata": {
        "id": "hyBAw2cRaKMF"
      }
    },
    {
      "cell_type": "markdown",
      "source": [
        "### **Create a 1D NumPy array with the numbers from 0 to 9. Reverse the array and print it.**\n",
        "\n"
      ],
      "metadata": {
        "id": "ShLIjZNfaf7V"
      }
    },
    {
      "cell_type": "code",
      "source": [
        "import numpy as np\n",
        "tab = np.arange(10)\n",
        "tab_inverse = tab[:-1] #-1 permet de faire l inverse\n",
        "print(\"Tb inversé :\", tab_inverse)\n"
      ],
      "metadata": {
        "colab": {
          "base_uri": "https://localhost:8080/"
        },
        "id": "pBhKG_WQaoYw",
        "outputId": "951bc025-183b-4c96-bca4-c699251530a5"
      },
      "execution_count": null,
      "outputs": [
        {
          "output_type": "stream",
          "name": "stdout",
          "text": [
            "Tb inversé : [0 1 2 3 4 5 6 7 8]\n"
          ]
        }
      ]
    },
    {
      "cell_type": "markdown",
      "source": [
        "### **Create a 2D NumPy array with the numbers from 0 to 11, arranged in a 3x4 shape. Extract a subarray consisting of the first two rows and the last two columns, and print it.**"
      ],
      "metadata": {
        "id": "oCpqSV3HbM8A"
      }
    },
    {
      "cell_type": "code",
      "source": [
        "import numpy as np\n",
        "tab_2d = np.arange(12).reshape(3, 4)\n",
        "sous_tab = tab_2d[:2, -2:]\n",
        "print(tab_2d)\n",
        "print(sous_tab)\n"
      ],
      "metadata": {
        "colab": {
          "base_uri": "https://localhost:8080/"
        },
        "id": "Ui1tY8hQbSs0",
        "outputId": "19efc9b1-c04c-4006-e3f5-7cf9c163a1d4"
      },
      "execution_count": null,
      "outputs": [
        {
          "output_type": "stream",
          "name": "stdout",
          "text": [
            "[[ 0  1  2  3]\n",
            " [ 4  5  6  7]\n",
            " [ 8  9 10 11]]\n",
            "[[2 3]\n",
            " [6 7]]\n"
          ]
        }
      ]
    },
    {
      "cell_type": "markdown",
      "source": [
        "### **Create a 2D NumPy array of shape (5, 5) with random integers between 0 and 10. Replace all elements greater than 5 with 0 and print the modified array.**"
      ],
      "metadata": {
        "id": "VSNgTAHkbqpI"
      }
    },
    {
      "cell_type": "code",
      "source": [
        "import numpy as np\n",
        "tab_2d = np.random.randint(0, 11, size=(5, 5))\n",
        "tab_2d[tab_2d > 5] = 0\n",
        "print(tab_2d)\n"
      ],
      "metadata": {
        "colab": {
          "base_uri": "https://localhost:8080/"
        },
        "id": "4E34B6-Obvd7",
        "outputId": "da274e84-e870-4239-d94c-b0eaac58fe8f"
      },
      "execution_count": null,
      "outputs": [
        {
          "output_type": "stream",
          "name": "stdout",
          "text": [
            "[[2 0 3 0 0]\n",
            " [0 0 5 0 0]\n",
            " [1 0 4 2 0]\n",
            " [5 0 0 0 0]\n",
            " [0 4 0 0 2]]\n"
          ]
        }
      ]
    },
    {
      "cell_type": "markdown",
      "source": [
        "# **Exercise 3: Array Initialization and Attributes**\n"
      ],
      "metadata": {
        "id": "ABZHFLLXcB27"
      }
    },
    {
      "cell_type": "markdown",
      "source": [
        "## Create a 3x3 identity matrix using NumPy and print its attributes: ndim, shape, size, itemsize, and nbytes.\n",
        "\n"
      ],
      "metadata": {
        "id": "cU_VQzCDcrI8"
      }
    },
    {
      "cell_type": "code",
      "source": [
        "import numpy as np\n",
        "\n",
        "mat_identite = np.eye(3)\n",
        "\n",
        "print(\"Matrice identité 3x3 :\")\n",
        "print(mat_identite)\n",
        "\n",
        "\n",
        "print(\"(ndim) :\", mat_identite.ndim)\n",
        "print(\" (shape) :\", mat_identite.shape)\n",
        "print(\" (size) :\", mat_identite.size)\n",
        "print(\" (itemsize) :\", mat_identite.itemsize)\n",
        "print(\" (nbytes) :\", mat_identite.nbytes)\n"
      ],
      "metadata": {
        "colab": {
          "base_uri": "https://localhost:8080/"
        },
        "id": "tzayeamccqSh",
        "outputId": "38dad243-8377-4c4d-acae-8e95a859c3b7"
      },
      "execution_count": null,
      "outputs": [
        {
          "output_type": "stream",
          "name": "stdout",
          "text": [
            "Matrice identité 3x3 :\n",
            "[[1. 0. 0.]\n",
            " [0. 1. 0.]\n",
            " [0. 0. 1.]]\n",
            "(ndim) : 2\n",
            " (shape) : (3, 3)\n",
            " (size) : 9\n",
            " (itemsize) : 8\n",
            " (nbytes) : 72\n"
          ]
        }
      ]
    },
    {
      "cell_type": "markdown",
      "source": [
        "### Create an array of 10 evenly spaced numbers between 0 and 5 using numpy.linspace(). Print the array and its datatype.\n",
        "\n"
      ],
      "metadata": {
        "id": "H7Ta8pFTc6q1"
      }
    },
    {
      "cell_type": "code",
      "source": [
        "import numpy as np\n",
        "\n",
        "tab = np.linspace(0, 5, 10)\n",
        "\n",
        "print(tab)\n",
        "\n",
        "print(\"\\n  INFO Données tableau :\", tab.dtype)\n"
      ],
      "metadata": {
        "colab": {
          "base_uri": "https://localhost:8080/"
        },
        "id": "Pi8MJutVdEzY",
        "outputId": "73aafc98-4404-401a-844b-7d6ca2265095"
      },
      "execution_count": null,
      "outputs": [
        {
          "output_type": "stream",
          "name": "stdout",
          "text": [
            "[0.         0.55555556 1.11111111 1.66666667 2.22222222 2.77777778\n",
            " 3.33333333 3.88888889 4.44444444 5.        ]\n",
            "\n",
            "  INFO Données tableau : float64\n"
          ]
        }
      ]
    },
    {
      "cell_type": "markdown",
      "source": [
        "### **Create a 3D array of shape (2, 3, 4) with random values from a standard normal distribution. Print the array and the sum of all elements.**\n",
        "\n"
      ],
      "metadata": {
        "id": "HZLSMYSQdgxe"
      }
    },
    {
      "cell_type": "code",
      "source": [
        "import numpy as np\n",
        "\n",
        "tab_3d = np.random.randn(2, 3, 4)\n",
        "\n",
        "\n",
        "print(tab_3d)\n",
        "somme_elements = np.sum(tab_3d)\n",
        "print(\"\\nSomme de tous les TBS:\", somme_elements)\n"
      ],
      "metadata": {
        "colab": {
          "base_uri": "https://localhost:8080/"
        },
        "id": "oYrWylK_dm38",
        "outputId": "7d8030b6-52f6-43a9-9174-d3ac35f3cb6d"
      },
      "execution_count": null,
      "outputs": [
        {
          "output_type": "stream",
          "name": "stdout",
          "text": [
            "[[[ 1.18863843  1.52814333 -0.691359   -0.39243213]\n",
            "  [ 0.50153713 -0.40071273 -0.02024321 -1.45619811]\n",
            "  [ 0.25859143  0.19819638 -1.46035495  0.03459869]]\n",
            "\n",
            " [[ 0.15182154 -0.35198198 -0.41080258 -0.51059483]\n",
            "  [ 0.6295834   0.38005311 -0.51523372  2.42659637]\n",
            "  [ 0.33661799 -0.44048516 -0.01107915  0.46043469]]]\n",
            "\n",
            "Somme de tous les TBS: 1.4333349424490964\n"
          ]
        }
      ]
    },
    {
      "cell_type": "markdown",
      "source": [
        "# **Exercise 4: Fancy Indexing and Masking**\n"
      ],
      "metadata": {
        "id": "44XcuLnHd9_7"
      }
    },
    {
      "cell_type": "markdown",
      "source": [
        "### Create a 1D NumPy array with random integers between 0 and 50 of size 20. Use fancy indexing to extract elements at indices [2, 5, 7, 10, 15] and print them."
      ],
      "metadata": {
        "id": "2XqgtL53eEOd"
      }
    },
    {
      "cell_type": "code",
      "source": [
        "import numpy as np\n",
        "tab = np.random.randint(0, 51, size=20)\n",
        "indices = [2, 5, 7, 10, 15]\n",
        "extrait = tab[indices]\n",
        "print(tab)\n",
        "print(extrait)\n"
      ],
      "metadata": {
        "colab": {
          "base_uri": "https://localhost:8080/"
        },
        "id": "Lcnqb5_DeJug",
        "outputId": "edb01192-fe19-4877-e195-b68d20751b8b"
      },
      "execution_count": null,
      "outputs": [
        {
          "output_type": "stream",
          "name": "stdout",
          "text": [
            "[48 13 50 45 47 24 28 48  5  5  2 44 35 32 28 40 31  6 33 15]\n",
            "[50 24 48  2 40]\n"
          ]
        }
      ]
    },
    {
      "cell_type": "markdown",
      "source": [
        "### Create a 2D NumPy array with random integers between 0 and 30 of shape (4, 5). Use a boolean mask to select all elements greater than 15 and print them."
      ],
      "metadata": {
        "id": "l6uV7j9AefCD"
      }
    },
    {
      "cell_type": "code",
      "source": [
        "import numpy as np\n",
        "tab_2d = np.random.randint(0, 31, size=(4, 5))\n",
        "masque = tab_2d > 15\n",
        "elements_sup_15 = tab_2d[masque]\n",
        "print(tab_2d)\n",
        "print(elements_sup_15)\n"
      ],
      "metadata": {
        "colab": {
          "base_uri": "https://localhost:8080/"
        },
        "id": "nMgkToXTeobo",
        "outputId": "cd69e922-eef9-4864-8589-bba6cbabc789"
      },
      "execution_count": null,
      "outputs": [
        {
          "output_type": "stream",
          "name": "stdout",
          "text": [
            "[[ 5 17 13 21 13]\n",
            " [30 24 20  7  5]\n",
            " [24 26 17 29 25]\n",
            " [25 30 21 25 17]]\n",
            "[17 21 30 24 20 24 26 17 29 25 25 30 21 25 17]\n"
          ]
        }
      ]
    },
    {
      "cell_type": "markdown",
      "source": [
        "### Create a 1D NumPy array of 10 random integers between -10 and 10. Use a boolean mask to set all negative values to zero and print the modified array."
      ],
      "metadata": {
        "id": "4omAmswIe62P"
      }
    },
    {
      "cell_type": "code",
      "source": [
        "import numpy as np\n",
        "tab = np.random.randint(-10, 11, size=10)\n",
        "masque_negatif = tab < 0\n",
        "tab[masque_negatif] = 0\n",
        "print(tab)\n"
      ],
      "metadata": {
        "colab": {
          "base_uri": "https://localhost:8080/"
        },
        "id": "2R6sTdo0fIvT",
        "outputId": "f1f67fcb-834c-4cf2-8736-84bc57c66e28"
      },
      "execution_count": null,
      "outputs": [
        {
          "output_type": "stream",
          "name": "stdout",
          "text": [
            "[ 0  1 10  6  0  0  0  0  0  0]\n"
          ]
        }
      ]
    },
    {
      "cell_type": "markdown",
      "source": [
        "# Exercise 5: Combining and Splitting Arrays\n"
      ],
      "metadata": {
        "id": "QgHxWQFUfSi3"
      }
    },
    {
      "cell_type": "markdown",
      "source": [
        "### **Create two 1D NumPy arrays of length 5 with random integers between 0 and 10. Concatenate the two arrays and print the result.**\n",
        "\n"
      ],
      "metadata": {
        "id": "9Gbn3AC7fiWU"
      }
    },
    {
      "cell_type": "code",
      "source": [
        "import numpy as np\n",
        "tab = np.random.randint(-10, 11, size=10)\n",
        "masque_n = tab < 0\n",
        "tab[masque_n] = 0\n",
        "print(tab)\n"
      ],
      "metadata": {
        "colab": {
          "base_uri": "https://localhost:8080/"
        },
        "id": "D70h7KbUf6Pb",
        "outputId": "03bd3d02-0fd5-4637-e9b0-df82c60e695c"
      },
      "execution_count": null,
      "outputs": [
        {
          "output_type": "stream",
          "name": "stdout",
          "text": [
            "[ 0  3  0  6 10  0  0  1  5  4]\n"
          ]
        }
      ]
    },
    {
      "cell_type": "markdown",
      "source": [
        "### **Create a 2D NumPy array of shape (6, 4) with random integers between 0 and 10. Split the array into two equal parts along the row axis and print them.**"
      ],
      "metadata": {
        "id": "nxspkVIngFpj"
      }
    },
    {
      "cell_type": "code",
      "source": [
        "import numpy as np\n",
        "\n",
        "tab_2d = np.random.randint(0, 11, size=(6, 4))\n",
        "\n",
        "partie1, partie2 = np.split(tab_2d, 2, axis=0)\n",
        "print(tab_2d)\n",
        "print(partie1)\n",
        "print(partie2)\n"
      ],
      "metadata": {
        "colab": {
          "base_uri": "https://localhost:8080/"
        },
        "id": "rSc87D5BgLS3",
        "outputId": "405acbe8-6bac-4865-f5cf-4cd994f8d172"
      },
      "execution_count": null,
      "outputs": [
        {
          "output_type": "stream",
          "name": "stdout",
          "text": [
            "[[ 5  1  8  5]\n",
            " [ 1  7  1  9]\n",
            " [ 4  9  1  1]\n",
            " [ 9  4  0  6]\n",
            " [ 5  8  0 10]\n",
            " [ 0  6  1  5]]\n",
            "[[5 1 8 5]\n",
            " [1 7 1 9]\n",
            " [4 9 1 1]]\n",
            "[[ 9  4  0  6]\n",
            " [ 5  8  0 10]\n",
            " [ 0  6  1  5]]\n"
          ]
        }
      ]
    },
    {
      "cell_type": "markdown",
      "source": [
        "### **Create a 2D NumPy array of shape (3, 6) with random integers between 0 and 10. Split the array into three equal parts along the column axis and print them**"
      ],
      "metadata": {
        "id": "187iSyC6gb4B"
      }
    },
    {
      "cell_type": "code",
      "source": [
        "import numpy as np\n",
        "tab_2d = np.random.randint(0, 11, size=(3, 6))\n",
        "partie1, partie2, partie3 = np.split(tab_2d, 3, axis=1)\n",
        "print(tab_2d)\n",
        "print(partie1)\n",
        "print(partie2)\n",
        "print(partie3)\n"
      ],
      "metadata": {
        "colab": {
          "base_uri": "https://localhost:8080/"
        },
        "id": "thr8YLK0gif1",
        "outputId": "acb16980-30c6-4f2d-bbdc-38885cb4d257"
      },
      "execution_count": null,
      "outputs": [
        {
          "output_type": "stream",
          "name": "stdout",
          "text": [
            "[[ 4  1  8  3  2  8]\n",
            " [10  2  3  8  1  5]\n",
            " [ 4  6  3  2  4  1]]\n",
            "[[ 4  1]\n",
            " [10  2]\n",
            " [ 4  6]]\n",
            "[[8 3]\n",
            " [3 8]\n",
            " [3 2]]\n",
            "[[2 8]\n",
            " [1 5]\n",
            " [4 1]]\n"
          ]
        }
      ]
    },
    {
      "cell_type": "markdown",
      "source": [
        "# Exercise 6: Mathematical Functions and Aggregations\n",
        "\n"
      ],
      "metadata": {
        "id": "2-BJewMJgyYM"
      }
    },
    {
      "cell_type": "markdown",
      "source": [
        "### Create a 1D NumPy array with random integers between 1 and 100 of size 15. Compute and print the mean, median, standard deviation, and variance of the array."
      ],
      "metadata": {
        "id": "kaSx6wLGg-np"
      }
    },
    {
      "cell_type": "code",
      "source": [
        "import numpy as np\n",
        "\n",
        "tab = np.random.randint(1, 101, size=15)\n",
        "\n",
        "moyenne = np.mean(tab)\n",
        "mediane = np.median(tab)\n",
        "ecart_type = np.std(tab)\n",
        "variance = np.var(tab)\n",
        "\n",
        "print(tab)\n",
        "\n",
        "print(\"\\nStatistiques :\")\n",
        "print(\"Moyenne :\", moyenne)\n",
        "print(\"Médiane :\", mediane)\n",
        "print(\"Écart-type :\", ecart_type)\n",
        "print(\"Variance :\", variance)\n"
      ],
      "metadata": {
        "colab": {
          "base_uri": "https://localhost:8080/"
        },
        "id": "pF9AFch6hD0s",
        "outputId": "cff53187-4645-4cf0-9ecb-4f0ef96bc643"
      },
      "execution_count": null,
      "outputs": [
        {
          "output_type": "stream",
          "name": "stdout",
          "text": [
            "[26 34 15 21 44 85 99 97 41 74 77 53 71 14 28]\n",
            "\n",
            "Statistiques :\n",
            "Moyenne : 51.93333333333333\n",
            "Médiane : 44.0\n",
            "Écart-type : 28.669302204429197\n",
            "Variance : 821.9288888888889\n"
          ]
        }
      ]
    },
    {
      "cell_type": "markdown",
      "source": [
        "### Create a 2D NumPy array of shape (4, 4) with random integers between 1 and 50. Compute and print the sum of each row and each column."
      ],
      "metadata": {
        "id": "9APeG9iUhVHN"
      }
    },
    {
      "cell_type": "code",
      "source": [
        "import numpy as np\n",
        "\n",
        "tab_2d = np.random.randint(1, 51, size=(4, 4))\n",
        "somme_lignes = np.sum(tab_2d, axis=1)\n",
        "somme_colonnes = np.sum(tab_2d, axis=0)\n",
        "print(tab_2d)\n",
        "print(somme_lignes)\n",
        "print('//')\n",
        "print(somme_colonnes)\n"
      ],
      "metadata": {
        "colab": {
          "base_uri": "https://localhost:8080/"
        },
        "id": "WpUeoe5khaXa",
        "outputId": "f4bdb747-825e-443f-b092-deb616d4a172"
      },
      "execution_count": null,
      "outputs": [
        {
          "output_type": "stream",
          "name": "stdout",
          "text": [
            "[[ 6 34 20 28]\n",
            " [35 36 39  5]\n",
            " [23 45 12 25]\n",
            " [24  7 46 33]]\n",
            "[ 88 115 105 110]\n",
            "//\n",
            "[ 88 122 117  91]\n"
          ]
        }
      ]
    },
    {
      "cell_type": "markdown",
      "source": [
        "### Create a 3D NumPy array of shape (2, 3, 4) with random integers between 1 and 20. Find the maximum and minimum values along each axis and print them."
      ],
      "metadata": {
        "id": "dQOItjb2hrlv"
      }
    },
    {
      "cell_type": "code",
      "source": [
        "import numpy as np\n",
        "\n",
        "tab_3d = np.random.randint(1, 21, size=(2, 3, 4))\n",
        "\n",
        "max_axis0 = np.max(tab_3d, axis=0)\n",
        "max_axis1 = np.max(tab_3d, axis=1)\n",
        "max_axis2 = np.max(tab_3d, axis=2)\n",
        "\n",
        "min_axis0 = np.min(tab_3d, axis=0)\n",
        "min_axis1 = np.min(tab_3d, axis=1)\n",
        "min_axis2 = np.min(tab_3d, axis=2)\n",
        "\n",
        "print(\"Tableau 3D (2x3x4) :\")\n",
        "print(tab_3d)\n",
        "\n",
        "print(\"\\nValeurs maximales :\")\n",
        "print(\"Max sur l'axe 0 (entre les blocs) :\\n\", max_axis0)\n",
        "print(\"Max sur l'axe 1 (entre les lignes) :\\n\", max_axis1)\n",
        "print(\"Max sur l'axe 2 (entre les colonnes) :\\n\", max_axis2)\n",
        "\n",
        "print(\"\\nValeurs mini :\")\n",
        "print(\"Min sur l'axe 0 (entre les blocs) :\\n\", min_axis0)\n",
        "print(\"Min sur l'axe 1 (entre les lignes) :\\n\", min_axis1)\n",
        "print(\"Min sur l'axe 2 (entre les colonnes) :\\n\", min_axis2)\n",
        "\n"
      ],
      "metadata": {
        "colab": {
          "base_uri": "https://localhost:8080/"
        },
        "id": "ktfR-q_ehyHL",
        "outputId": "3cda6354-0063-4433-d50e-a553d9ddc74e"
      },
      "execution_count": null,
      "outputs": [
        {
          "output_type": "stream",
          "name": "stdout",
          "text": [
            "Tableau 3D (2x3x4) :\n",
            "[[[ 4 16 19  3]\n",
            "  [12  7 19 19]\n",
            "  [15 19 19  3]]\n",
            "\n",
            " [[19 12 12  4]\n",
            "  [20 19  2 19]\n",
            "  [16 15 14  5]]]\n",
            "\n",
            "Valeurs maximales :\n",
            "Max sur l'axe 0 (entre les blocs) :\n",
            " [[19 16 19  4]\n",
            " [20 19 19 19]\n",
            " [16 19 19  5]]\n",
            "Max sur l'axe 1 (entre les lignes) :\n",
            " [[15 19 19 19]\n",
            " [20 19 14 19]]\n",
            "Max sur l'axe 2 (entre les colonnes) :\n",
            " [[19 19 19]\n",
            " [19 20 16]]\n",
            "\n",
            "Valeurs mini :\n",
            "Min sur l'axe 0 (entre les blocs) :\n",
            " [[ 4 12 12  3]\n",
            " [12  7  2 19]\n",
            " [15 15 14  3]]\n",
            "Min sur l'axe 1 (entre les lignes) :\n",
            " [[ 4  7 19  3]\n",
            " [16 12  2  4]]\n",
            "Min sur l'axe 2 (entre les colonnes) :\n",
            " [[3 7 3]\n",
            " [4 2 5]]\n"
          ]
        }
      ]
    },
    {
      "cell_type": "markdown",
      "source": [
        "# Exercise 7: Reshaping and Transposing Arrays\n"
      ],
      "metadata": {
        "id": "-lCaRVNoiDed"
      }
    },
    {
      "cell_type": "markdown",
      "source": [
        "### Create a 1D NumPy array with the numbers from 1 to 12. Reshape the array to a 2D array of shape (3, 4) and print it.\n",
        "\n"
      ],
      "metadata": {
        "id": "P_OT253FiPUx"
      }
    },
    {
      "cell_type": "code",
      "source": [
        "import numpy as np\n",
        "tab_1d = np.arange(1, 13)\n",
        "tab_2d = tab_1d.reshape(3, 4)\n",
        "print(tab_2d)\n"
      ],
      "metadata": {
        "colab": {
          "base_uri": "https://localhost:8080/"
        },
        "id": "XGIFsOVKiTWk",
        "outputId": "32f2f30c-9825-4d8c-c78e-68216aaa02cc"
      },
      "execution_count": null,
      "outputs": [
        {
          "output_type": "stream",
          "name": "stdout",
          "text": [
            "[[ 1  2  3  4]\n",
            " [ 5  6  7  8]\n",
            " [ 9 10 11 12]]\n"
          ]
        }
      ]
    },
    {
      "cell_type": "markdown",
      "source": [
        "### Create a 2D NumPy array of shape (3, 4) with random integers between 1 and 10. Transpose the array and print the transposed array."
      ],
      "metadata": {
        "id": "BvrWVnWujAZb"
      }
    },
    {
      "cell_type": "code",
      "source": [
        "import numpy as np\n",
        "\n",
        "tab_2d = np.random.randint(1, 11, size=(3, 4)) ## Création d'un tb 2D (3x4)  nb aléatoires entre 1 et 10\n",
        "\n",
        "\n",
        "tab_transpose = tab_2d.T\n",
        "\n",
        "print(\"Tableau original (3x4) :\")\n",
        "print(tab_2d)\n",
        "\n",
        "print(\"\\nTableau transposé (4x3) :\")\n",
        "print(tab_transpose)\n"
      ],
      "metadata": {
        "colab": {
          "base_uri": "https://localhost:8080/"
        },
        "id": "njMCNLQYjEVz",
        "outputId": "eae6e63c-1221-4ed2-f441-c9b318fd08a7"
      },
      "execution_count": null,
      "outputs": [
        {
          "output_type": "stream",
          "name": "stdout",
          "text": [
            "Tableau original (3x4) :\n",
            "[[ 1  9  5  7]\n",
            " [ 8  6 10  5]\n",
            " [ 8  5 10  9]]\n",
            "\n",
            "Tableau transposé (4x3) :\n",
            "[[ 1  8  8]\n",
            " [ 9  6  5]\n",
            " [ 5 10 10]\n",
            " [ 7  5  9]]\n"
          ]
        }
      ]
    },
    {
      "cell_type": "markdown",
      "source": [
        "### Create a 2D NumPy array of shape (2, 3) with random integers between 1 and 10. Flatten the array to 1D and print the result."
      ],
      "metadata": {
        "id": "Jb2CHz_RjUck"
      }
    },
    {
      "cell_type": "code",
      "source": [
        "import numpy as np\n",
        "tab_2d = np.random.randint(1, 11, size=(2, 3))\n",
        "tab_1d = tab_2d.flatten()\n",
        "print(tab_2d)\n",
        "print(tab_1d)\n"
      ],
      "metadata": {
        "colab": {
          "base_uri": "https://localhost:8080/"
        },
        "id": "82sW0Y97jmL6",
        "outputId": "52cedebd-fc24-4cb0-a7e3-1d454adfecea"
      },
      "execution_count": null,
      "outputs": [
        {
          "output_type": "stream",
          "name": "stdout",
          "text": [
            "[[4 3 8]\n",
            " [6 7 9]]\n",
            "[4 3 8 6 7 9]\n"
          ]
        }
      ]
    },
    {
      "cell_type": "markdown",
      "source": [
        "# Exercise 8: Broadcasting and Vectorized Operations\n",
        "\n",
        "\n"
      ],
      "metadata": {
        "id": "v4VKsrMRkDBu"
      }
    },
    {
      "cell_type": "markdown",
      "source": [
        "### Create a 2D NumPy array of shape (3, 4) with random integers between 1 and 10. Subtract the mean of each column from the respective column elements and print the result."
      ],
      "metadata": {
        "id": "nDGnws16kTLN"
      }
    },
    {
      "cell_type": "code",
      "source": [
        "import numpy as np\n",
        "tab_2d = np.random.randint(1, 11, size=(3, 4))\n",
        "moyenne_colonnes = np.mean(tab_2d, axis=0)\n",
        "tab_centre = tab_2d - moyenne_colonnes\n",
        "print(tab_2d)\n",
        "print(moyenne_colonnes)\n",
        "print(tab_centre)\n"
      ],
      "metadata": {
        "colab": {
          "base_uri": "https://localhost:8080/"
        },
        "id": "5CNv_Q48kb3G",
        "outputId": "8757a4db-46ad-40c1-d666-bd170dee9a56"
      },
      "execution_count": null,
      "outputs": [
        {
          "output_type": "stream",
          "name": "stdout",
          "text": [
            "[[ 8 10  9  4]\n",
            " [ 1  1  6  6]\n",
            " [ 1  3  7 10]]\n",
            "[3.33333333 4.66666667 7.33333333 6.66666667]\n",
            "[[ 4.66666667  5.33333333  1.66666667 -2.66666667]\n",
            " [-2.33333333 -3.66666667 -1.33333333 -0.66666667]\n",
            " [-2.33333333 -1.66666667 -0.33333333  3.33333333]]\n"
          ]
        }
      ]
    },
    {
      "cell_type": "markdown",
      "source": [
        "### Create two 1D NumPy arrays of length 4 with random integers between 1 and 5. Use broadcasting to compute and print the outer product of the two arrays."
      ],
      "metadata": {
        "id": "DBbHE_MXkjee"
      }
    },
    {
      "cell_type": "code",
      "source": [
        "import numpy as np\n",
        "\n",
        "tab1 = np.random.randint(1, 6, size=4)\n",
        "tab2 = np.random.randint(1, 6, size=4)\n",
        "produit_exterieur = tab1[:, np.newaxis] * tab2\n",
        "print(tab1)\n",
        "print(tab2)\n",
        "print(produit_exterieur)\n"
      ],
      "metadata": {
        "colab": {
          "base_uri": "https://localhost:8080/"
        },
        "id": "I6Que884k8dC",
        "outputId": "1a3a9329-ddb1-475b-aa80-99cf71c8b44c"
      },
      "execution_count": null,
      "outputs": [
        {
          "output_type": "stream",
          "name": "stdout",
          "text": [
            "[1 1 5 1]\n",
            "[3 3 3 2]\n",
            "[[ 3  3  3  2]\n",
            " [ 3  3  3  2]\n",
            " [15 15 15 10]\n",
            " [ 3  3  3  2]]\n"
          ]
        }
      ]
    },
    {
      "cell_type": "markdown",
      "source": [
        "### Create a 2D NumPy array of shape (4, 5) with random integers between 1 and 10. Add 10 to all elements of the array that are greater than 5 and print the modified array."
      ],
      "metadata": {
        "id": "T2FKD7RHlGAU"
      }
    },
    {
      "cell_type": "code",
      "source": [
        "import numpy as np\n",
        "tab_2d = np.random.randint(1, 11, size=(4, 5))\n",
        "tab_2d[tab_2d > 5] += 10\n",
        "print(tab_2d)\n"
      ],
      "metadata": {
        "colab": {
          "base_uri": "https://localhost:8080/"
        },
        "id": "TO0dMOm6lIVc",
        "outputId": "fb8d6be7-c20d-495b-b038-4f3dba94e5d7"
      },
      "execution_count": null,
      "outputs": [
        {
          "output_type": "stream",
          "name": "stdout",
          "text": [
            "[[19  5  5 18 19]\n",
            " [16 19 17  4  3]\n",
            " [19  4 20 16  2]\n",
            " [20  4  1  5  4]]\n"
          ]
        }
      ]
    },
    {
      "cell_type": "markdown",
      "source": [
        "#Exercise 9: Sorting and Searching Arrays\n"
      ],
      "metadata": {
        "id": "6ipUoi4TgZnK"
      }
    },
    {
      "cell_type": "markdown",
      "source": [
        "### Create a 1D NumPy array with random integers between 1 and 20 of size 10. Sort the array in ascending order and print the sorted array."
      ],
      "metadata": {
        "id": "14Wz8hljg3F5"
      }
    },
    {
      "cell_type": "code",
      "source": [
        "import numpy as np\n",
        "\n",
        "tab = np.random.randint(1, 21, size=10)\n",
        "\n",
        "tab_tri = np.sort(tab)\n",
        "\n",
        "print(\"Tab OG :\")\n",
        "print(tab)\n",
        "\n",
        "print(\"Tab trié:\")\n",
        "print(tab_tri)\n"
      ],
      "metadata": {
        "colab": {
          "base_uri": "https://localhost:8080/"
        },
        "id": "btcUeatWhN8p",
        "outputId": "f3eb5c01-dad1-4681-fbe6-bbd59a662e03"
      },
      "execution_count": null,
      "outputs": [
        {
          "output_type": "stream",
          "name": "stdout",
          "text": [
            "Tab OG :\n",
            "[12 15 17 18 13 14  2  5 17 12]\n",
            "Tab trié:\n",
            "[ 2  5 12 12 13 14 15 17 17 18]\n"
          ]
        }
      ]
    },
    {
      "cell_type": "markdown",
      "source": [
        "###Create a 2D NumPy array of shape (3, 5) with random integers between 1 and 50. Sort the array by the second column and print the result\n",
        "> Ajouter une citation\n",
        "\n"
      ],
      "metadata": {
        "id": "GMZ5cmfbiDFe"
      }
    },
    {
      "cell_type": "code",
      "source": [
        "import numpy as np\n",
        "\n",
        "tab = np.random.randint(1, 51, size=(3, 5))\n",
        "\n",
        "tab_tri = tab[tab[:, 1].argsort()]\n",
        "\n",
        "print(\"Tab OG non change  :\")\n",
        "print(tab)\n",
        "\n",
        "print(\"\\Tab trié par 2 eme colonne :\")\n",
        "print(tab_tri)"
      ],
      "metadata": {
        "colab": {
          "base_uri": "https://localhost:8080/"
        },
        "id": "quOesrwriq9W",
        "outputId": "29a2cbf5-addf-41f4-f029-fc4793da7325"
      },
      "execution_count": null,
      "outputs": [
        {
          "output_type": "stream",
          "name": "stdout",
          "text": [
            "Tab original :\n",
            "[[ 5 10 48 12 46]\n",
            " [33 47 10 47 15]\n",
            " [29 43 49 47 46]]\n",
            "\n",
            "Tab trié par la deuxième colonne :\n",
            "[[ 5 10 48 12 46]\n",
            " [29 43 49 47 46]\n",
            " [33 47 10 47 15]]\n"
          ]
        }
      ]
    },
    {
      "cell_type": "markdown",
      "source": [
        "### Create a 1D NumPy array with random integers between 1 and 100 of size 15. Find and print the indices of all elements greater than 50."
      ],
      "metadata": {
        "id": "1cRm9kAAjP2D"
      }
    },
    {
      "cell_type": "code",
      "source": [
        "import numpy as np\n",
        "tab = np.random.randint(1, 101, size=15)\n",
        "indices_sup_50 = np.argwhere(tab > 50).flatten()\n",
        "print(tab)\n",
        "print(indices_sup_50)\n",
        "print(tab[indices_sup_50])\n",
        "\n"
      ],
      "metadata": {
        "colab": {
          "base_uri": "https://localhost:8080/"
        },
        "id": "i1ZySSM6jXvJ",
        "outputId": "f3b4f71f-5c73-4cd2-bdd0-c0fb2a120032"
      },
      "execution_count": null,
      "outputs": [
        {
          "output_type": "stream",
          "name": "stdout",
          "text": [
            "[13 27 77 91 47 96 60 57 13 25 69 87 95 73 45]\n",
            "[ 2  3  5  6  7 10 11 12 13]\n",
            "[77 91 96 60 57 69 87 95 73]\n"
          ]
        }
      ]
    },
    {
      "cell_type": "markdown",
      "source": [
        "# Exercise 10: Linear Algebra with NumPy"
      ],
      "metadata": {
        "id": "v9JesPNTlgSt"
      }
    },
    {
      "cell_type": "markdown",
      "source": [
        "Create a 2D NumPy array of shape (2, 2) with random integers between 1 and 10. Compute and print the determinant of the array"
      ],
      "metadata": {
        "id": "1Y_Or0F6Un0t"
      }
    },
    {
      "cell_type": "code",
      "source": [
        "import numpy as np\n",
        "\n",
        "mat = np.random.randint(1, 11, size=(2, 2)) # création d un tb aléatoire (mat)\n",
        "#11 car 11-1= 10\n",
        "\n",
        "cal = np.linalg.det(mat) #cal du tb\n",
        "\n",
        "\n",
        "print(mat)\n",
        "\n",
        "print(cal)\n"
      ],
      "metadata": {
        "id": "oww0FoR3UqQ4"
      },
      "execution_count": null,
      "outputs": []
    },
    {
      "cell_type": "markdown",
      "source": [
        "Create a 2D NumPy array of shape (3, 3) with random integers between 1 and 5. Compute and print the eigenvalues and eigenvectors of the array."
      ],
      "metadata": {
        "id": "Vqbj03nsVScD"
      }
    },
    {
      "cell_type": "code",
      "source": [
        "#On doit juste changer la valeur de matrice\n",
        "import numpy as np\n",
        "\n",
        "mat = np.random.randint(1, 6, size=(3, 3))\n",
        "\n",
        "\n",
        "cal = np.linalg.det(mat) #cal du tb\n",
        "\n",
        "\n",
        "print(mat)\n",
        "\n",
        "print(cal)\n"
      ],
      "metadata": {
        "id": "_--95PmjWCWL"
      },
      "execution_count": null,
      "outputs": []
    },
    {
      "cell_type": "markdown",
      "source": [
        "Create two 2D NumPy arrays of shape (2, 3) and (3, 2) with random integers between 1 and 10. Compute and print the matrix product of the two arrays."
      ],
      "metadata": {
        "id": "QH3120BCWNzM"
      }
    },
    {
      "cell_type": "code",
      "source": [
        "import numpy as np\n",
        "\n",
        "mat_a = np.random.randint(1, 11, size=(2, 3))\n",
        "mat_b = np.random.randint(1, 11, size=(3, 2))\n",
        "\n",
        "prod_mat = np.matmul(mat_a, mat_b)  # Ou mat_a  mat_b\n",
        "\n",
        "print('\\n\\\\\\\\\\\\\\\\\\\\\\\\\\\\\\\\\\\\\\\\\\\\\\\\\\\\\\\\')\n",
        "print(mat_a)\n",
        "\n",
        "print('\\n\\\\\\\\\\\\\\\\\\\\\\\\\\\\\\\\\\\\\\\\\\\\\\\\\\\\\\\\')\n",
        "\n",
        "print(mat_b)\n",
        "print('\\n\\\\\\\\\\\\\\\\\\\\\\\\\\\\\\\\\\\\\\\\\\\\\\\\\\\\\\\\')\n",
        "\n",
        "print(prod_mat)\n"
      ],
      "metadata": {
        "colab": {
          "base_uri": "https://localhost:8080/"
        },
        "id": "rrF_7zyxWQml",
        "outputId": "98a99f3f-2817-480a-e17e-8d0f45a5d3da"
      },
      "execution_count": null,
      "outputs": [
        {
          "output_type": "stream",
          "name": "stdout",
          "text": [
            "\n",
            "\\\\\\\\\\\\\\\\\\\\\\\\\\\\\n",
            "[[ 1 10  8]\n",
            " [ 4  7  9]]\n",
            "\n",
            "\\\\\\\\\\\\\\\\\\\\\\\\\\\\\n",
            "[[ 8 10]\n",
            " [ 9  2]\n",
            " [ 7  9]]\n",
            "\n",
            "\\\\\\\\\\\\\\\\\\\\\\\\\\\\\n",
            "[[154 102]\n",
            " [158 135]]\n"
          ]
        }
      ]
    },
    {
      "cell_type": "markdown",
      "source": [
        "# Exercise 11: Random Sampling and Distributions"
      ],
      "metadata": {
        "id": "WMsLX0UuWpTg"
      }
    },
    {
      "cell_type": "markdown",
      "source": [
        "Create a 1D NumPy array of 10 random samples from a uniform distribution over [0, 1) and print the array.\n",
        "\n"
      ],
      "metadata": {
        "id": "QhE1WzT3ZgVq"
      }
    },
    {
      "cell_type": "code",
      "source": [
        "import numpy as np\n",
        "\n",
        "tb1 = np.random.rand(10) #génère 10  nb alt\n",
        "\n",
        "print(tb1)\n"
      ],
      "metadata": {
        "colab": {
          "base_uri": "https://localhost:8080/"
        },
        "id": "GVV6bgljZhmY",
        "outputId": "01a098a0-148c-40dd-e506-6c8732a51b1d"
      },
      "execution_count": null,
      "outputs": [
        {
          "output_type": "stream",
          "name": "stdout",
          "text": [
            "[0.64098095 0.11321146 0.99333754 0.68408837 0.14081056 0.25636555\n",
            " 0.50377583 0.02061602 0.68281721 0.47245892]\n"
          ]
        }
      ]
    },
    {
      "cell_type": "markdown",
      "source": [
        "Create a 2D NumPy array of shape (3, 3) with random samples from a normal distribution with mean 0 and standard deviation 1. Print the array."
      ],
      "metadata": {
        "id": "g-S8ruWfZn07"
      }
    },
    {
      "cell_type": "code",
      "source": [
        "import numpy as np\n",
        "\n",
        "mat_normale = np.random.randn(3, 3) #Génère une matrice 3x3 avec des valeurs issues d'une distribution normale standard (μ=0, σ=1).\n",
        "\n",
        "print(mat_normale)\n"
      ],
      "metadata": {
        "id": "JPvCARvDZq2H"
      },
      "execution_count": null,
      "outputs": []
    },
    {
      "cell_type": "markdown",
      "source": [
        "Create a 1D NumPy array of 20 random integers between 1 and 100. Compute and print the histogram of the array with 5 bins."
      ],
      "metadata": {
        "id": "C2mu5-Didx6H"
      }
    },
    {
      "cell_type": "code",
      "source": [
        "import numpy as np\n",
        "import matplotlib.pyplot as plt\n",
        "\n",
        "tab = np.random.randint(1, 101, size=20)\n",
        "\n",
        "hist, bins = np.histogram(tab, bins=5)\n",
        "\n",
        "print(\"Tableau de 20  :\", tab)\n",
        "\n",
        "print(\"\\nHistogramme  :\", hist)\n",
        "\n",
        "# Affiche les bornes des bins\n",
        "print(\"\\nBornes des bins :\", bins)\n",
        "\n",
        "plt.hist(tab, bins=5, edgecolor='black', alpha=0.7)  # Dessine l'histogramme\n",
        "plt.title(\"Histogramme des nombres générés\")  # Titre du graphique\n",
        "plt.xlabel(\"Valeur\")  # Axe X\n",
        "plt.ylabel(\"Fréquence\")  # Axe Y\n",
        "\n",
        "plt.show()\n"
      ],
      "metadata": {
        "id": "EUGhteYnd0zH"
      },
      "execution_count": null,
      "outputs": []
    },
    {
      "cell_type": "markdown",
      "source": [
        "#Exercise 12: Advanced Indexing and Selection"
      ],
      "metadata": {
        "id": "cEdYlQdpd6cX"
      }
    },
    {
      "cell_type": "markdown",
      "source": [
        "Create a 2D NumPy array of shape (5, 5) with random integers between 1 and 20. Select and print the diagonal elements of the array.\n",
        "\n"
      ],
      "metadata": {
        "id": "w_iBlhoUeB4l"
      }
    },
    {
      "cell_type": "code",
      "source": [
        "import numpy as np  # Importation de NumPy\n",
        "\n",
        "mat = np.random.randint(1, 21, size=(5, 5))  #tb 2D 5 sur 5 NB\n",
        "\n",
        "diag_elements = np.diag(mat)\n",
        "\n",
        "print(mat)\n",
        "\n",
        "\n",
        "print(diag_elements)\n"
      ],
      "metadata": {
        "id": "fNmY04cHeICY"
      },
      "execution_count": null,
      "outputs": []
    },
    {
      "cell_type": "markdown",
      "source": [
        "Create a 1D NumPy array of 10 random integers between 1 and 50. Use advanced indexing to select and print all elements that are prime numbers."
      ],
      "metadata": {
        "id": "yf-H3YmJeZnF"
      }
    },
    {
      "cell_type": "code",
      "source": [
        "import numpy as np\n",
        "\n",
        "def nbp(n):\n",
        "    if n < 2:\n",
        "        return False\n",
        "    for i in range(2, int(np.sqrt(n)) + 1):  # Vérifie la divisibilité\n",
        "        if n % i == 0:\n",
        "            return False\n",
        "    return True\n",
        "\n",
        "tab = np.random.randint(1, 51, size=10) #gén le tb\n",
        "\n",
        "pc = np.array([nbp(num) for num in tab])\n",
        "\n",
        "primes = tab[pc]\n",
        "\n",
        "print(tab)\n",
        "\n",
        "print(primes)\n"
      ],
      "metadata": {
        "id": "EStcN8kseePe"
      },
      "execution_count": null,
      "outputs": []
    },
    {
      "cell_type": "markdown",
      "source": [
        "Create a 2D NumPy array of shape (4, 4) with random integers between 1 and 10. Select and print all elements that are even numbers."
      ],
      "metadata": {
        "id": "EkQUigKXfBSu"
      }
    },
    {
      "cell_type": "markdown",
      "source": [],
      "metadata": {
        "id": "fzZKLBkNeZjM"
      }
    },
    {
      "cell_type": "code",
      "source": [
        "import numpy as np\n",
        "\n",
        "mat = np.random.randint(1, 11, size=(4, 4)) # Génère un tableau 2D (4x4) avec des entiers entre 1 et 10\n",
        "\n",
        "\n",
        "mask_pairs = (mat % 2 == 0) # permet de faire le booléen pour trouver les nb p\n",
        "\n",
        "pairs = mat[mask_pairs]\n",
        "\n",
        "print(mat)\n",
        "\n",
        "print(pairs)\n"
      ],
      "metadata": {
        "id": "PvnJ1PY9fccy"
      },
      "execution_count": null,
      "outputs": []
    },
    {
      "cell_type": "markdown",
      "source": [
        "# Exercise 13: Handling Missing Data"
      ],
      "metadata": {
        "id": "FQLewguUflBC"
      }
    },
    {
      "cell_type": "markdown",
      "source": [
        "Create a 1D NumPy array of length 10 with random integers between 1 and 10. Introduce np.nan at random positions and print the array.\n",
        "\n"
      ],
      "metadata": {
        "id": "qZySPx7zgiSD"
      }
    },
    {
      "cell_type": "code",
      "source": [
        "import numpy as np\n",
        "\n",
        "tab = np.array(np.random.randint(1, 11, size=10), dtype=float) ## Génère un tableau 1D de 10 entiers entre 1 et 10, puis convertit en float\n",
        "\n",
        "\n",
        "nb_nan = np.random.randint(1, 4)  # Entre 1 et 3 NaNs\n",
        "indices_nan = np.random.choice(len(tab), nb_nan, replace=False)  # Indices uniques\n",
        "\n",
        "tab[indices_nan] = np.nan\n",
        "\n",
        "\n",
        "print(tab)\n"
      ],
      "metadata": {
        "id": "jN0OI-Sygjxq"
      },
      "execution_count": null,
      "outputs": []
    },
    {
      "cell_type": "markdown",
      "source": [
        "Create a 2D NumPy array of shape (3, 4) with random integers between 1 and 10. Replace all elements that are less than 5 with np.nan and print the array."
      ],
      "metadata": {
        "id": "HJOY7BWYgoMj"
      }
    },
    {
      "cell_type": "code",
      "source": [
        "import numpy as np\n",
        "\n",
        "mat = np.array(np.random.randint(1, 11, size=(3, 4)), dtype=float)\n",
        "\n",
        "mask = mat < 5\n",
        "\n",
        "mat[mask] = np.nan\n",
        "\n",
        "print(mat)\n"
      ],
      "metadata": {
        "id": "-MG0ZFbig4E9"
      },
      "execution_count": null,
      "outputs": []
    },
    {
      "cell_type": "markdown",
      "source": [
        "# Exercise 14: Performance Optimization with NumPy"
      ],
      "metadata": {
        "id": "aXo67umBhUhK"
      }
    },
    {
      "cell_type": "markdown",
      "source": [
        "Create a large 1D NumPy array with 1 million random integers between 1 and 100. Compute the mean and standard deviation using NumPy functions and measure the time taken."
      ],
      "metadata": {
        "id": "NoryoicchkMl"
      }
    },
    {
      "cell_type": "code",
      "source": [
        "import numpy as np\n",
        "import time\n",
        "\n",
        "tab = np.random.randint(1, 101, size=1_000_000)\n",
        "\n",
        "start_time = time.time()\n",
        "mean_value = np.mean(tab)\n",
        "std_dev = np.std(tab)\n",
        "elapsed_time = time.time() - start_time\n",
        "\n",
        "print(mean_value, std_dev, elapsed_time)\n"
      ],
      "metadata": {
        "id": "QeWkEP2mhmSP"
      },
      "execution_count": null,
      "outputs": []
    },
    {
      "cell_type": "markdown",
      "source": [
        "Create two large 2D NumPy arrays of shape (1000, 1000) with random integers between 1 and 10. Perform element-wise addition and measure the time taken."
      ],
      "metadata": {
        "id": "YJaQWMZEigRT"
      }
    },
    {
      "cell_type": "code",
      "source": [
        "import numpy as np\n",
        "import time\n",
        "\n",
        "mat1 = np.random.randint(1, 11, size=(1000, 1000))\n",
        "mat2 = np.random.randint(1, 11, size=(1000, 1000))\n",
        "\n",
        "start_time = time.time()\n",
        "result = mat1 + mat2  # Addition élément par élément\n",
        "elapsed_time = time.time() - start_time\n",
        "\n",
        "\n",
        "print(elapsed_time)\n"
      ],
      "metadata": {
        "id": "PPHI2WRsijLB"
      },
      "execution_count": null,
      "outputs": []
    },
    {
      "cell_type": "markdown",
      "source": [
        "Create a 3D NumPy array of shape (100, 100, 100) with random integers between 1 and 10. Compute the sum along each axis and measure the time taken"
      ],
      "metadata": {
        "id": "AJmImM8RjBX0"
      }
    },
    {
      "cell_type": "code",
      "source": [
        "import numpy as np\n",
        "import time\n",
        "\n",
        "tab_3d = np.random.randint(1, 11, size=(100, 100, 100))\n",
        "\n",
        "# Mesure du temps\n",
        "debut_tps = time.time()\n",
        "somme_ax0 = np.sum(tab_3d, axis=0)\n",
        "somme_ax1 = np.sum(tab_3d, axis=1)\n",
        "somme_ax2 = np.sum(tab_3d, axis=2)\n",
        "tps_ecoule = time.time() - debut_tps\n",
        "\n",
        "print(tps_ecoule)\n"
      ],
      "metadata": {
        "id": "dB3YWHIHjIKs"
      },
      "execution_count": null,
      "outputs": []
    },
    {
      "cell_type": "markdown",
      "source": [
        "# Exercise 15: Cumulative and Aggregate Functions"
      ],
      "metadata": {
        "id": "G7_gXa75j0bp"
      }
    },
    {
      "cell_type": "markdown",
      "source": [
        "Create a 1D NumPy array with the numbers from 1 to 10. Compute and print the cumulative sum and cumulative product of the array."
      ],
      "metadata": {
        "id": "nOcXBcv8j4Xo"
      }
    },
    {
      "cell_type": "code",
      "source": [
        "import numpy as np\n",
        "\n",
        "tab = np.arange(1, 11)\n",
        "\n",
        "somme_cumul = np.cumsum(tab)\n",
        "produit_cumul = np.cumprod(tab)\n",
        "\n",
        "print(\"Sm :\", somme_cumul)\n",
        "print(\"Pd com :\", produit_cumul)\n"
      ],
      "metadata": {
        "id": "OnBvIsr6kEWw"
      },
      "execution_count": null,
      "outputs": []
    },
    {
      "cell_type": "markdown",
      "source": [
        "Create a 2D NumPy array of shape (4, 4) with random integers between 1 and 20. Compute and print the cumulative sum along the rows and the columns"
      ],
      "metadata": {
        "id": "NU9sWLhkkjG4"
      }
    },
    {
      "cell_type": "code",
      "source": [
        "import numpy as np\n",
        "\n",
        "mat = np.random.randint(1, 21, size=(4, 4)) #tb 4FOIS4\n",
        "\n",
        "somme_cumul_lignes = np.cumsum(mat, axis=1) #cal la som\n",
        "somme_cumul_colonnes = np.cumsum(mat, axis=0)\n",
        "\n",
        "# Affichage des résultats\n",
        "print( mat)\n",
        "print( somme_cumul_lignes)\n",
        "print( somme_cumul_colonnes)\n"
      ],
      "metadata": {
        "id": "3kY5GEJ7kutC"
      },
      "execution_count": null,
      "outputs": []
    },
    {
      "cell_type": "markdown",
      "source": [
        "Create a 1D NumPy array with 10 random integers between 1 and 50. Compute and print the minimum, maximum, and sum of the array."
      ],
      "metadata": {
        "id": "xph6OtGSlKIQ"
      }
    },
    {
      "cell_type": "code",
      "source": [
        "import numpy as np\n",
        "\n",
        "tab = np.random.randint(1, 51, size=10) # Création d'un tableau 1D avec 10 entiers aléatoires entre 1 et 50\n",
        "\n",
        "\n",
        "val_min = np.min(tab)\n",
        "val_max = np.max(tab)\n",
        "somme_totale = np.sum(tab)\n",
        "\n",
        "print(\"Tableau :\", tab)\n",
        "print(\"Minimum :\", val_min)\n",
        "print(\"Maximum :\", val_max)\n",
        "print(\"Somme totale :\", somme_totale)\n"
      ],
      "metadata": {
        "id": "jcUbqI-ClO4g"
      },
      "execution_count": null,
      "outputs": []
    },
    {
      "cell_type": "markdown",
      "source": [
        "# Exercise 16: Working with Dates and Times"
      ],
      "metadata": {
        "id": "AmiQBY22mk31"
      }
    },
    {
      "cell_type": "markdown",
      "source": [
        "Create an array of 10 dates starting from today with a daily frequency and print the array."
      ],
      "metadata": {
        "id": "_xXZmd6smqSJ"
      }
    },
    {
      "cell_type": "code",
      "source": [
        "import numpy as np\n",
        "\n",
        "dates = np.arange(np.datetime64('today'), np.datetime64('today') + 10, dtype='datetime64[D]') #Ajoute 10 jours à la date d’aujourd’hui.\n",
        "\n",
        "\n",
        "print(dates)\n"
      ],
      "metadata": {
        "id": "Qdi5Uc4vmtWQ"
      },
      "execution_count": null,
      "outputs": []
    },
    {
      "cell_type": "markdown",
      "source": [
        "Create an array of 5 dates starting from January 1, 2022 with a monthly frequency and print the array.\n",
        "\n"
      ],
      "metadata": {
        "id": "gAHm5-KhnA8Q"
      }
    },
    {
      "cell_type": "code",
      "source": [
        "import numpy as np\n",
        "\n",
        "dates = np.arange(np.datetime64('2022-01'), np.datetime64('2022-06'), dtype='datetime64[M]') #on change juste la date\n",
        "\n",
        "print(dates)\n"
      ],
      "metadata": {
        "colab": {
          "base_uri": "https://localhost:8080/"
        },
        "id": "upgF7KhJnIMX",
        "outputId": "60871422-0961-443d-beb4-38b4f0bd07f7"
      },
      "execution_count": null,
      "outputs": [
        {
          "output_type": "stream",
          "name": "stdout",
          "text": [
            "['2022-01' '2022-02' '2022-03' '2022-04' '2022-05']\n"
          ]
        }
      ]
    },
    {
      "cell_type": "markdown",
      "source": [
        "Create a 1D array with 10 random timestamps in the year 2023. Convert the timestamps to NumPy datetime64 objects and print the result."
      ],
      "metadata": {
        "id": "fExttOaVnewm"
      }
    },
    {
      "cell_type": "code",
      "source": [
        "import numpy as np\n",
        "\n",
        "# Génération de 10 timestamps aléatoires dans l'année 2023\n",
        "timestamps = np.random.randint(\n",
        "    np.datetime64('2023-01-01T00:00:00').astype('int'),\n",
        "    np.datetime64('2023-12-31T23:59:59').astype('int'),\n",
        "    size=10\n",
        ")\n",
        "\n",
        "dates = timestamps.astype('datetime64[s]')\n",
        "\n",
        "print(dates)\n"
      ],
      "metadata": {
        "id": "cfcyD2XNnulX"
      },
      "execution_count": null,
      "outputs": []
    },
    {
      "cell_type": "markdown",
      "source": [
        "# Exercise 17: Creating Arrays with Custom Data Types"
      ],
      "metadata": {
        "id": "R4i35BwKn_I9"
      }
    },
    {
      "cell_type": "markdown",
      "source": [
        "Create a 1D NumPy array of length 5 with custom data type to store integers and their corresponding binary representation as strings. Print the array."
      ],
      "metadata": {
        "id": "ZsSOPC4_oCtr"
      }
    },
    {
      "cell_type": "code",
      "source": [
        "import numpy as np\n",
        "\n",
        "dt = np.dtype([('entier', np.int32), ('binaire', 'U10')]) # peremt  stocker un entier 32 bits.\n",
        "\n",
        "tab = np.array([(5, bin(5)[2:]), (10, bin(10)[2:]), (15, bin(15)[2:]), #creation du tb en binaire\n",
        "                (20, bin(20)[2:]), (25, bin(25)[2:])], dtype=dt)\n",
        "\n",
        "print(tab)\n"
      ],
      "metadata": {
        "id": "4610PIoPoFeC"
      },
      "execution_count": null,
      "outputs": []
    },
    {
      "cell_type": "markdown",
      "source": [
        "Create a 2D NumPy array of shape (3, 3) with a custom data type to store complex numbers. Initialize the array with some complex numbers and print the array."
      ],
      "metadata": {
        "id": "T-fvL6AGogX7"
      }
    },
    {
      "cell_type": "code",
      "source": [
        "import numpy as np\n",
        "\n",
        "tab_complexe = np.array([ # Création tb 2D (3x3) avec des nombres complexes avec option avec\n",
        "\n",
        "    [1+2j, 3+4j, 5+6j],\n",
        "    [7+8j, 9+10j, 11+12j],\n",
        "    [13+14j, 15+16j, 17+18j]\n",
        "], dtype=np.complex128)\n",
        "\n",
        "print(tab_complexe)\n"
      ],
      "metadata": {
        "id": "8-m5MamXojzC"
      },
      "execution_count": null,
      "outputs": []
    },
    {
      "cell_type": "markdown",
      "source": [
        "Create a structured array to store information about books with fields: title (string), author (string), and pages (integer). Add information for three books and print the structured array."
      ],
      "metadata": {
        "id": "kEzw7b2rpS85"
      }
    },
    {
      "cell_type": "code",
      "source": [
        "import numpy as np\n",
        "\n",
        "dt = np.dtype([('titre', 'U50'), ('auteur', 'U50'), ('pages', np.int32)]) #le dt pour mettre les infos legendes\n",
        "\n",
        "livres = np.array([ #le tb\n",
        "    ('Naruto Vol. 1', 'Masashi Kishimoto', 192),\n",
        "    ('Naruto Vol. 27', 'Masashi Kishimoto', 216),\n",
        "    ('Naruto Vol. 72', 'Masashi Kishimoto', 220)\n",
        "], dtype=dt) # cette options permet de mettre les 3 infos sur la meme legende j'ai trouver ca sur le web ! car j v un pb !\n",
        "\n",
        "print(livres)\n",
        "\n"
      ],
      "metadata": {
        "colab": {
          "base_uri": "https://localhost:8080/"
        },
        "id": "m-EgZfDTpVn3",
        "outputId": "4153ff69-3df5-4815-9785-32476ab5744b"
      },
      "execution_count": null,
      "outputs": [
        {
          "output_type": "stream",
          "name": "stdout",
          "text": [
            "[('Naruto Vol. 1', 'Masashi Kishimoto', 192)\n",
            " ('Naruto Vol. 27', 'Masashi Kishimoto', 216)\n",
            " ('Naruto Vol. 72', 'Masashi Kishimoto', 220)]\n"
          ]
        }
      ]
    }
  ]
}